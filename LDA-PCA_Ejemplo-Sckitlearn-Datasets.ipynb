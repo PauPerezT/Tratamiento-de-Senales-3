{
 "cells": [
  {
   "cell_type": "markdown",
   "metadata": {},
   "source": [
    "# Ejemplo LDA vs PCA\n",
    "## Tratamiento de señales 3-Virtual UdeA\n",
    "### Paula Andrea Pérez Toro"
   ]
  },
  {
   "cell_type": "markdown",
   "metadata": {},
   "source": [
    "\n",
    "Utilizaremos 3 bases de datos para observar como actuan cada uno de los algoritmos\n",
    "\n",
    "- Vinos: tres tipos de vinos.\n",
    "- Cancer de mama: dos tipos de clases (benigno y maligno).\n",
    "- Iris: fue utilizada por Fisher en un articulo. Tres clases de flores."
   ]
  },
  {
   "cell_type": "code",
   "execution_count": 186,
   "metadata": {},
   "outputs": [],
   "source": [
    "#Sklearn tiene bases de datos para que prueben sus algoritmos\n",
    "from sklearn.datasets import load_wine,load_breast_cancer,load_iris\n",
    "import pandas as pd # Dataframes para el manejo de datos y tablas\n",
    "import numpy as np\n",
    "np.set_printoptions(precision=4)\n",
    "from matplotlib import pyplot as plt\n",
    "\n",
    "from sklearn.preprocessing import LabelEncoder\n",
    "from sklearn.model_selection import train_test_split\n"
   ]
  },
  {
   "cell_type": "markdown",
   "metadata": {},
   "source": [
    "### Bases de datos\n"
   ]
  },
  {
   "cell_type": "code",
   "execution_count": 187,
   "metadata": {},
   "outputs": [],
   "source": [
    "data_info = load_wine() #Cargamos la base de datos de vinos\n",
    "#data_info = load_breast_cancer() #Cargamos la base de datos de cancer de mama\n",
    "#data_info = load_iris() #Cargamos la base de datos iris"
   ]
  },
  {
   "cell_type": "markdown",
   "metadata": {},
   "source": [
    "# LDA"
   ]
  },
  {
   "cell_type": "markdown",
   "metadata": {},
   "source": [
    "Lectura de datos"
   ]
  },
  {
   "cell_type": "code",
   "execution_count": 189,
   "metadata": {},
   "outputs": [
    {
     "data": {
      "text/plain": [
       "(178, 13)"
      ]
     },
     "execution_count": 189,
     "metadata": {},
     "output_type": "execute_result"
    }
   ],
   "source": [
    "\n",
    "#Leemos las caracteristicas, se leen de esta forma por que estamos extrayendo información de la base de datos\n",
    "X = pd.DataFrame(data_info.data, columns=data_info.feature_names) \n",
    "#Leemos las etiquetas o labels\n",
    "y = pd.Categorical.from_codes(data_info.target, data_info.target_names)\n",
    "#Miraremos como es el tamaño de la base de datos, en donde las columnas seran las caracteristicas \n",
    "#y las filas seran las muestras\n",
    "X.shape"
   ]
  },
  {
   "cell_type": "markdown",
   "metadata": {},
   "source": [
    "Miraremos algunas muestras en el dataset, cuando le damos .head() a un dataframe mostramos solo las 5 primeras muestras"
   ]
  },
  {
   "cell_type": "code",
   "execution_count": 190,
   "metadata": {},
   "outputs": [
    {
     "data": {
      "text/html": [
       "<div>\n",
       "<style scoped>\n",
       "    .dataframe tbody tr th:only-of-type {\n",
       "        vertical-align: middle;\n",
       "    }\n",
       "\n",
       "    .dataframe tbody tr th {\n",
       "        vertical-align: top;\n",
       "    }\n",
       "\n",
       "    .dataframe thead th {\n",
       "        text-align: right;\n",
       "    }\n",
       "</style>\n",
       "<table border=\"1\" class=\"dataframe\">\n",
       "  <thead>\n",
       "    <tr style=\"text-align: right;\">\n",
       "      <th></th>\n",
       "      <th>alcohol</th>\n",
       "      <th>malic_acid</th>\n",
       "      <th>ash</th>\n",
       "      <th>alcalinity_of_ash</th>\n",
       "      <th>magnesium</th>\n",
       "      <th>total_phenols</th>\n",
       "      <th>flavanoids</th>\n",
       "      <th>nonflavanoid_phenols</th>\n",
       "      <th>proanthocyanins</th>\n",
       "      <th>color_intensity</th>\n",
       "      <th>hue</th>\n",
       "      <th>od280/od315_of_diluted_wines</th>\n",
       "      <th>proline</th>\n",
       "    </tr>\n",
       "  </thead>\n",
       "  <tbody>\n",
       "    <tr>\n",
       "      <th>0</th>\n",
       "      <td>14.23</td>\n",
       "      <td>1.71</td>\n",
       "      <td>2.43</td>\n",
       "      <td>15.6</td>\n",
       "      <td>127.0</td>\n",
       "      <td>2.80</td>\n",
       "      <td>3.06</td>\n",
       "      <td>0.28</td>\n",
       "      <td>2.29</td>\n",
       "      <td>5.64</td>\n",
       "      <td>1.04</td>\n",
       "      <td>3.92</td>\n",
       "      <td>1065.0</td>\n",
       "    </tr>\n",
       "    <tr>\n",
       "      <th>1</th>\n",
       "      <td>13.20</td>\n",
       "      <td>1.78</td>\n",
       "      <td>2.14</td>\n",
       "      <td>11.2</td>\n",
       "      <td>100.0</td>\n",
       "      <td>2.65</td>\n",
       "      <td>2.76</td>\n",
       "      <td>0.26</td>\n",
       "      <td>1.28</td>\n",
       "      <td>4.38</td>\n",
       "      <td>1.05</td>\n",
       "      <td>3.40</td>\n",
       "      <td>1050.0</td>\n",
       "    </tr>\n",
       "    <tr>\n",
       "      <th>2</th>\n",
       "      <td>13.16</td>\n",
       "      <td>2.36</td>\n",
       "      <td>2.67</td>\n",
       "      <td>18.6</td>\n",
       "      <td>101.0</td>\n",
       "      <td>2.80</td>\n",
       "      <td>3.24</td>\n",
       "      <td>0.30</td>\n",
       "      <td>2.81</td>\n",
       "      <td>5.68</td>\n",
       "      <td>1.03</td>\n",
       "      <td>3.17</td>\n",
       "      <td>1185.0</td>\n",
       "    </tr>\n",
       "    <tr>\n",
       "      <th>3</th>\n",
       "      <td>14.37</td>\n",
       "      <td>1.95</td>\n",
       "      <td>2.50</td>\n",
       "      <td>16.8</td>\n",
       "      <td>113.0</td>\n",
       "      <td>3.85</td>\n",
       "      <td>3.49</td>\n",
       "      <td>0.24</td>\n",
       "      <td>2.18</td>\n",
       "      <td>7.80</td>\n",
       "      <td>0.86</td>\n",
       "      <td>3.45</td>\n",
       "      <td>1480.0</td>\n",
       "    </tr>\n",
       "    <tr>\n",
       "      <th>4</th>\n",
       "      <td>13.24</td>\n",
       "      <td>2.59</td>\n",
       "      <td>2.87</td>\n",
       "      <td>21.0</td>\n",
       "      <td>118.0</td>\n",
       "      <td>2.80</td>\n",
       "      <td>2.69</td>\n",
       "      <td>0.39</td>\n",
       "      <td>1.82</td>\n",
       "      <td>4.32</td>\n",
       "      <td>1.04</td>\n",
       "      <td>2.93</td>\n",
       "      <td>735.0</td>\n",
       "    </tr>\n",
       "  </tbody>\n",
       "</table>\n",
       "</div>"
      ],
      "text/plain": [
       "   alcohol  malic_acid   ash  alcalinity_of_ash  magnesium  total_phenols  \\\n",
       "0    14.23        1.71  2.43               15.6      127.0           2.80   \n",
       "1    13.20        1.78  2.14               11.2      100.0           2.65   \n",
       "2    13.16        2.36  2.67               18.6      101.0           2.80   \n",
       "3    14.37        1.95  2.50               16.8      113.0           3.85   \n",
       "4    13.24        2.59  2.87               21.0      118.0           2.80   \n",
       "\n",
       "   flavanoids  nonflavanoid_phenols  proanthocyanins  color_intensity   hue  \\\n",
       "0        3.06                  0.28             2.29             5.64  1.04   \n",
       "1        2.76                  0.26             1.28             4.38  1.05   \n",
       "2        3.24                  0.30             2.81             5.68  1.03   \n",
       "3        3.49                  0.24             2.18             7.80  0.86   \n",
       "4        2.69                  0.39             1.82             4.32  1.04   \n",
       "\n",
       "   od280/od315_of_diluted_wines  proline  \n",
       "0                          3.92   1065.0  \n",
       "1                          3.40   1050.0  \n",
       "2                          3.17   1185.0  \n",
       "3                          3.45   1480.0  \n",
       "4                          2.93    735.0  "
      ]
     },
     "execution_count": 190,
     "metadata": {},
     "output_type": "execute_result"
    }
   ],
   "source": [
    "X.head()\n"
   ]
  },
  {
   "cell_type": "markdown",
   "metadata": {},
   "source": [
    "Miraremos cuantos clases tendremos\n"
   ]
  },
  {
   "cell_type": "code",
   "execution_count": 191,
   "metadata": {},
   "outputs": [
    {
     "data": {
      "text/plain": [
       "array(['class_0', 'class_1', 'class_2'], dtype='<U7')"
      ]
     },
     "execution_count": 191,
     "metadata": {},
     "output_type": "execute_result"
    }
   ],
   "source": [
    "data_info.target_names "
   ]
  },
  {
   "cell_type": "markdown",
   "metadata": {},
   "source": [
    "Agregaremos las etiquetas o classes en la ultima columna para mejor manejo de los dataframes"
   ]
  },
  {
   "cell_type": "code",
   "execution_count": 192,
   "metadata": {},
   "outputs": [
    {
     "data": {
      "text/html": [
       "<div>\n",
       "<style scoped>\n",
       "    .dataframe tbody tr th:only-of-type {\n",
       "        vertical-align: middle;\n",
       "    }\n",
       "\n",
       "    .dataframe tbody tr th {\n",
       "        vertical-align: top;\n",
       "    }\n",
       "\n",
       "    .dataframe thead th {\n",
       "        text-align: right;\n",
       "    }\n",
       "</style>\n",
       "<table border=\"1\" class=\"dataframe\">\n",
       "  <thead>\n",
       "    <tr style=\"text-align: right;\">\n",
       "      <th></th>\n",
       "      <th>alcohol</th>\n",
       "      <th>malic_acid</th>\n",
       "      <th>ash</th>\n",
       "      <th>alcalinity_of_ash</th>\n",
       "      <th>magnesium</th>\n",
       "      <th>total_phenols</th>\n",
       "      <th>flavanoids</th>\n",
       "      <th>nonflavanoid_phenols</th>\n",
       "      <th>proanthocyanins</th>\n",
       "      <th>color_intensity</th>\n",
       "      <th>hue</th>\n",
       "      <th>od280/od315_of_diluted_wines</th>\n",
       "      <th>proline</th>\n",
       "      <th>class</th>\n",
       "    </tr>\n",
       "  </thead>\n",
       "  <tbody>\n",
       "    <tr>\n",
       "      <th>0</th>\n",
       "      <td>14.23</td>\n",
       "      <td>1.71</td>\n",
       "      <td>2.43</td>\n",
       "      <td>15.6</td>\n",
       "      <td>127.0</td>\n",
       "      <td>2.80</td>\n",
       "      <td>3.06</td>\n",
       "      <td>0.28</td>\n",
       "      <td>2.29</td>\n",
       "      <td>5.64</td>\n",
       "      <td>1.04</td>\n",
       "      <td>3.92</td>\n",
       "      <td>1065.0</td>\n",
       "      <td>class_0</td>\n",
       "    </tr>\n",
       "    <tr>\n",
       "      <th>1</th>\n",
       "      <td>13.20</td>\n",
       "      <td>1.78</td>\n",
       "      <td>2.14</td>\n",
       "      <td>11.2</td>\n",
       "      <td>100.0</td>\n",
       "      <td>2.65</td>\n",
       "      <td>2.76</td>\n",
       "      <td>0.26</td>\n",
       "      <td>1.28</td>\n",
       "      <td>4.38</td>\n",
       "      <td>1.05</td>\n",
       "      <td>3.40</td>\n",
       "      <td>1050.0</td>\n",
       "      <td>class_0</td>\n",
       "    </tr>\n",
       "    <tr>\n",
       "      <th>2</th>\n",
       "      <td>13.16</td>\n",
       "      <td>2.36</td>\n",
       "      <td>2.67</td>\n",
       "      <td>18.6</td>\n",
       "      <td>101.0</td>\n",
       "      <td>2.80</td>\n",
       "      <td>3.24</td>\n",
       "      <td>0.30</td>\n",
       "      <td>2.81</td>\n",
       "      <td>5.68</td>\n",
       "      <td>1.03</td>\n",
       "      <td>3.17</td>\n",
       "      <td>1185.0</td>\n",
       "      <td>class_0</td>\n",
       "    </tr>\n",
       "    <tr>\n",
       "      <th>3</th>\n",
       "      <td>14.37</td>\n",
       "      <td>1.95</td>\n",
       "      <td>2.50</td>\n",
       "      <td>16.8</td>\n",
       "      <td>113.0</td>\n",
       "      <td>3.85</td>\n",
       "      <td>3.49</td>\n",
       "      <td>0.24</td>\n",
       "      <td>2.18</td>\n",
       "      <td>7.80</td>\n",
       "      <td>0.86</td>\n",
       "      <td>3.45</td>\n",
       "      <td>1480.0</td>\n",
       "      <td>class_0</td>\n",
       "    </tr>\n",
       "    <tr>\n",
       "      <th>4</th>\n",
       "      <td>13.24</td>\n",
       "      <td>2.59</td>\n",
       "      <td>2.87</td>\n",
       "      <td>21.0</td>\n",
       "      <td>118.0</td>\n",
       "      <td>2.80</td>\n",
       "      <td>2.69</td>\n",
       "      <td>0.39</td>\n",
       "      <td>1.82</td>\n",
       "      <td>4.32</td>\n",
       "      <td>1.04</td>\n",
       "      <td>2.93</td>\n",
       "      <td>735.0</td>\n",
       "      <td>class_0</td>\n",
       "    </tr>\n",
       "  </tbody>\n",
       "</table>\n",
       "</div>"
      ],
      "text/plain": [
       "   alcohol  malic_acid   ash  alcalinity_of_ash  magnesium  total_phenols  \\\n",
       "0    14.23        1.71  2.43               15.6      127.0           2.80   \n",
       "1    13.20        1.78  2.14               11.2      100.0           2.65   \n",
       "2    13.16        2.36  2.67               18.6      101.0           2.80   \n",
       "3    14.37        1.95  2.50               16.8      113.0           3.85   \n",
       "4    13.24        2.59  2.87               21.0      118.0           2.80   \n",
       "\n",
       "   flavanoids  nonflavanoid_phenols  proanthocyanins  color_intensity   hue  \\\n",
       "0        3.06                  0.28             2.29             5.64  1.04   \n",
       "1        2.76                  0.26             1.28             4.38  1.05   \n",
       "2        3.24                  0.30             2.81             5.68  1.03   \n",
       "3        3.49                  0.24             2.18             7.80  0.86   \n",
       "4        2.69                  0.39             1.82             4.32  1.04   \n",
       "\n",
       "   od280/od315_of_diluted_wines  proline    class  \n",
       "0                          3.92   1065.0  class_0  \n",
       "1                          3.40   1050.0  class_0  \n",
       "2                          3.17   1185.0  class_0  \n",
       "3                          3.45   1480.0  class_0  \n",
       "4                          2.93    735.0  class_0  "
      ]
     },
     "execution_count": 192,
     "metadata": {},
     "output_type": "execute_result"
    }
   ],
   "source": [
    "df = X.join(pd.Series(y, name='class'))\n",
    "df.head()"
   ]
  },
  {
   "cell_type": "markdown",
   "metadata": {},
   "source": [
    "#### 1. Calcularemos ahora las matrices de dispersión intraclases  o $\\Sigma_{intra}$"
   ]
  },
  {
   "cell_type": "markdown",
   "metadata": {},
   "source": [
    "- Primero obtendremos las medias de cada caracteristica en por clase"
   ]
  },
  {
   "cell_type": "code",
   "execution_count": 193,
   "metadata": {},
   "outputs": [
    {
     "data": {
      "text/html": [
       "<div>\n",
       "<style scoped>\n",
       "    .dataframe tbody tr th:only-of-type {\n",
       "        vertical-align: middle;\n",
       "    }\n",
       "\n",
       "    .dataframe tbody tr th {\n",
       "        vertical-align: top;\n",
       "    }\n",
       "\n",
       "    .dataframe thead th {\n",
       "        text-align: right;\n",
       "    }\n",
       "</style>\n",
       "<table border=\"1\" class=\"dataframe\">\n",
       "  <thead>\n",
       "    <tr style=\"text-align: right;\">\n",
       "      <th></th>\n",
       "      <th>class_0</th>\n",
       "      <th>class_1</th>\n",
       "      <th>class_2</th>\n",
       "    </tr>\n",
       "  </thead>\n",
       "  <tbody>\n",
       "    <tr>\n",
       "      <th>alcohol</th>\n",
       "      <td>13.744746</td>\n",
       "      <td>12.278732</td>\n",
       "      <td>13.153750</td>\n",
       "    </tr>\n",
       "    <tr>\n",
       "      <th>malic_acid</th>\n",
       "      <td>2.010678</td>\n",
       "      <td>1.932676</td>\n",
       "      <td>3.333750</td>\n",
       "    </tr>\n",
       "    <tr>\n",
       "      <th>ash</th>\n",
       "      <td>2.455593</td>\n",
       "      <td>2.244789</td>\n",
       "      <td>2.437083</td>\n",
       "    </tr>\n",
       "    <tr>\n",
       "      <th>alcalinity_of_ash</th>\n",
       "      <td>17.037288</td>\n",
       "      <td>20.238028</td>\n",
       "      <td>21.416667</td>\n",
       "    </tr>\n",
       "    <tr>\n",
       "      <th>magnesium</th>\n",
       "      <td>106.338983</td>\n",
       "      <td>94.549296</td>\n",
       "      <td>99.312500</td>\n",
       "    </tr>\n",
       "    <tr>\n",
       "      <th>total_phenols</th>\n",
       "      <td>2.840169</td>\n",
       "      <td>2.258873</td>\n",
       "      <td>1.678750</td>\n",
       "    </tr>\n",
       "    <tr>\n",
       "      <th>flavanoids</th>\n",
       "      <td>2.982373</td>\n",
       "      <td>2.080845</td>\n",
       "      <td>0.781458</td>\n",
       "    </tr>\n",
       "    <tr>\n",
       "      <th>nonflavanoid_phenols</th>\n",
       "      <td>0.290000</td>\n",
       "      <td>0.363662</td>\n",
       "      <td>0.447500</td>\n",
       "    </tr>\n",
       "    <tr>\n",
       "      <th>proanthocyanins</th>\n",
       "      <td>1.899322</td>\n",
       "      <td>1.630282</td>\n",
       "      <td>1.153542</td>\n",
       "    </tr>\n",
       "    <tr>\n",
       "      <th>color_intensity</th>\n",
       "      <td>5.528305</td>\n",
       "      <td>3.086620</td>\n",
       "      <td>7.396250</td>\n",
       "    </tr>\n",
       "    <tr>\n",
       "      <th>hue</th>\n",
       "      <td>1.062034</td>\n",
       "      <td>1.056282</td>\n",
       "      <td>0.682708</td>\n",
       "    </tr>\n",
       "    <tr>\n",
       "      <th>od280/od315_of_diluted_wines</th>\n",
       "      <td>3.157797</td>\n",
       "      <td>2.785352</td>\n",
       "      <td>1.683542</td>\n",
       "    </tr>\n",
       "    <tr>\n",
       "      <th>proline</th>\n",
       "      <td>1115.711864</td>\n",
       "      <td>519.507042</td>\n",
       "      <td>629.895833</td>\n",
       "    </tr>\n",
       "  </tbody>\n",
       "</table>\n",
       "</div>"
      ],
      "text/plain": [
       "                                  class_0     class_1     class_2\n",
       "alcohol                         13.744746   12.278732   13.153750\n",
       "malic_acid                       2.010678    1.932676    3.333750\n",
       "ash                              2.455593    2.244789    2.437083\n",
       "alcalinity_of_ash               17.037288   20.238028   21.416667\n",
       "magnesium                      106.338983   94.549296   99.312500\n",
       "total_phenols                    2.840169    2.258873    1.678750\n",
       "flavanoids                       2.982373    2.080845    0.781458\n",
       "nonflavanoid_phenols             0.290000    0.363662    0.447500\n",
       "proanthocyanins                  1.899322    1.630282    1.153542\n",
       "color_intensity                  5.528305    3.086620    7.396250\n",
       "hue                              1.062034    1.056282    0.682708\n",
       "od280/od315_of_diluted_wines     3.157797    2.785352    1.683542\n",
       "proline                       1115.711864  519.507042  629.895833"
      ]
     },
     "execution_count": 193,
     "metadata": {},
     "output_type": "execute_result"
    }
   ],
   "source": [
    " # Esta parte es solo para leer las clases\n",
    "intra_feature_means = pd.DataFrame(columns=data_info.target_names)\n",
    "\n",
    "#Recorreremos cada clase y hallaremos su media\n",
    "for c, rows in df.groupby('class'):\n",
    "\n",
    "    \n",
    "    intra_feature_means[c] = rows.mean()\n",
    "intra_feature_means\n"
   ]
  },
  {
   "cell_type": "markdown",
   "metadata": {},
   "source": [
    "- Asi obtendremos ya dadas las medias nuestra matriz de dispersion o $\\Sigma_{intra}$, como lo vimos en la clase"
   ]
  },
  {
   "cell_type": "code",
   "execution_count": 194,
   "metadata": {},
   "outputs": [],
   "source": [
    "intraclase_scatter_matrix = np.zeros((X.shape[1],X.shape[1]))\n",
    "\n",
    "\n",
    "for c, rows in df.groupby('class'):\n",
    "    rows = rows.drop(['class'], axis=1)\n",
    "\n",
    "    s = np.zeros((X.shape[1],X.shape[1]))\n",
    "    for index, row in rows.iterrows():\n",
    "        x, mc = row.values.reshape(X.shape[1],1),intra_feature_means[c].values.reshape(X.shape[1],1)\n",
    "\n",
    "        s += (x - mc).dot((x - mc).T)\n",
    "\n",
    "    intraclase_scatter_matrix += s"
   ]
  },
  {
   "cell_type": "code",
   "execution_count": 195,
   "metadata": {},
   "outputs": [
    {
     "data": {
      "text/html": [
       "<div>\n",
       "<style scoped>\n",
       "    .dataframe tbody tr th:only-of-type {\n",
       "        vertical-align: middle;\n",
       "    }\n",
       "\n",
       "    .dataframe tbody tr th {\n",
       "        vertical-align: top;\n",
       "    }\n",
       "\n",
       "    .dataframe thead th {\n",
       "        text-align: right;\n",
       "    }\n",
       "</style>\n",
       "<table border=\"1\" class=\"dataframe\">\n",
       "  <thead>\n",
       "    <tr style=\"text-align: right;\">\n",
       "      <th></th>\n",
       "      <th>0</th>\n",
       "      <th>1</th>\n",
       "      <th>2</th>\n",
       "      <th>3</th>\n",
       "      <th>4</th>\n",
       "      <th>5</th>\n",
       "      <th>6</th>\n",
       "      <th>7</th>\n",
       "      <th>8</th>\n",
       "      <th>9</th>\n",
       "      <th>10</th>\n",
       "      <th>11</th>\n",
       "      <th>12</th>\n",
       "    </tr>\n",
       "  </thead>\n",
       "  <tbody>\n",
       "    <tr>\n",
       "      <th>0</th>\n",
       "      <td>45.859182</td>\n",
       "      <td>1.430276</td>\n",
       "      <td>-2.329110</td>\n",
       "      <td>-17.013018</td>\n",
       "      <td>3.138271</td>\n",
       "      <td>4.742176</td>\n",
       "      <td>3.960549</td>\n",
       "      <td>-0.170720</td>\n",
       "      <td>2.934978</td>\n",
       "      <td>43.130146</td>\n",
       "      <td>0.136868</td>\n",
       "      <td>-0.872439</td>\n",
       "      <td>2.141495e+03</td>\n",
       "    </tr>\n",
       "    <tr>\n",
       "      <th>1</th>\n",
       "      <td>1.430276</td>\n",
       "      <td>155.320689</td>\n",
       "      <td>3.743391</td>\n",
       "      <td>72.582283</td>\n",
       "      <td>-155.634176</td>\n",
       "      <td>-2.534868</td>\n",
       "      <td>-1.646618</td>\n",
       "      <td>1.780654</td>\n",
       "      <td>3.010536</td>\n",
       "      <td>-45.272514</td>\n",
       "      <td>-7.373182</td>\n",
       "      <td>8.142634</td>\n",
       "      <td>-5.785236e+03</td>\n",
       "    </tr>\n",
       "    <tr>\n",
       "      <th>2</th>\n",
       "      <td>-2.329110</td>\n",
       "      <td>3.743391</td>\n",
       "      <td>11.562618</td>\n",
       "      <td>84.728099</td>\n",
       "      <td>120.665125</td>\n",
       "      <td>2.829752</td>\n",
       "      <td>5.244934</td>\n",
       "      <td>1.228605</td>\n",
       "      <td>0.469124</td>\n",
       "      <td>1.713984</td>\n",
       "      <td>0.406392</td>\n",
       "      <td>1.909503</td>\n",
       "      <td>-8.767189e+01</td>\n",
       "    </tr>\n",
       "    <tr>\n",
       "      <th>3</th>\n",
       "      <td>-17.013018</td>\n",
       "      <td>72.582283</td>\n",
       "      <td>84.728099</td>\n",
       "      <td>1401.191957</td>\n",
       "      <td>566.621139</td>\n",
       "      <td>19.007669</td>\n",
       "      <td>43.123331</td>\n",
       "      <td>8.210113</td>\n",
       "      <td>16.226898</td>\n",
       "      <td>-17.814143</td>\n",
       "      <td>-1.720402</td>\n",
       "      <td>39.485563</td>\n",
       "      <td>-5.745752e+03</td>\n",
       "    </tr>\n",
       "    <tr>\n",
       "      <th>4</th>\n",
       "      <td>3.138271</td>\n",
       "      <td>-155.634176</td>\n",
       "      <td>120.665125</td>\n",
       "      <td>566.621139</td>\n",
       "      <td>31615.110304</td>\n",
       "      <td>100.999304</td>\n",
       "      <td>116.697710</td>\n",
       "      <td>-50.235317</td>\n",
       "      <td>227.569448</td>\n",
       "      <td>310.171993</td>\n",
       "      <td>22.077711</td>\n",
       "      <td>-49.197790</td>\n",
       "      <td>8.334355e+04</td>\n",
       "    </tr>\n",
       "    <tr>\n",
       "      <th>5</th>\n",
       "      <td>4.742176</td>\n",
       "      <td>-2.534868</td>\n",
       "      <td>2.829752</td>\n",
       "      <td>19.007669</td>\n",
       "      <td>100.999304</td>\n",
       "      <td>33.472333</td>\n",
       "      <td>28.228731</td>\n",
       "      <td>-1.353757</td>\n",
       "      <td>16.072642</td>\n",
       "      <td>34.821922</td>\n",
       "      <td>-0.256415</td>\n",
       "      <td>10.476063</td>\n",
       "      <td>1.469197e+03</td>\n",
       "    </tr>\n",
       "    <tr>\n",
       "      <th>6</th>\n",
       "      <td>3.960549</td>\n",
       "      <td>-1.646618</td>\n",
       "      <td>5.244934</td>\n",
       "      <td>43.123331</td>\n",
       "      <td>116.697710</td>\n",
       "      <td>28.228731</td>\n",
       "      <td>48.073815</td>\n",
       "      <td>-2.671745</td>\n",
       "      <td>22.363830</td>\n",
       "      <td>50.168703</td>\n",
       "      <td>-0.736111</td>\n",
       "      <td>11.875839</td>\n",
       "      <td>5.994972e+02</td>\n",
       "    </tr>\n",
       "    <tr>\n",
       "      <th>7</th>\n",
       "      <td>-0.170720</td>\n",
       "      <td>1.780654</td>\n",
       "      <td>1.228605</td>\n",
       "      <td>8.210113</td>\n",
       "      <td>-50.235317</td>\n",
       "      <td>-1.353757</td>\n",
       "      <td>-2.671745</td>\n",
       "      <td>2.084548</td>\n",
       "      <td>-1.512148</td>\n",
       "      <td>-0.264371</td>\n",
       "      <td>0.237752</td>\n",
       "      <td>-1.762567</td>\n",
       "      <td>-8.630433e+01</td>\n",
       "    </tr>\n",
       "    <tr>\n",
       "      <th>8</th>\n",
       "      <td>2.934978</td>\n",
       "      <td>3.010536</td>\n",
       "      <td>0.469124</td>\n",
       "      <td>16.226898</td>\n",
       "      <td>227.569448</td>\n",
       "      <td>16.072642</td>\n",
       "      <td>22.363830</td>\n",
       "      <td>-1.512148</td>\n",
       "      <td>43.080265</td>\n",
       "      <td>40.111238</td>\n",
       "      <td>-1.103525</td>\n",
       "      <td>7.427303</td>\n",
       "      <td>2.009406e+03</td>\n",
       "    </tr>\n",
       "    <tr>\n",
       "      <th>9</th>\n",
       "      <td>43.130146</td>\n",
       "      <td>-45.272514</td>\n",
       "      <td>1.713984</td>\n",
       "      <td>-17.814143</td>\n",
       "      <td>310.171993</td>\n",
       "      <td>34.821922</td>\n",
       "      <td>50.168703</td>\n",
       "      <td>-0.264371</td>\n",
       "      <td>40.111238</td>\n",
       "      <td>399.861539</td>\n",
       "      <td>-7.174341</td>\n",
       "      <td>-11.603398</td>\n",
       "      <td>1.191639e+04</td>\n",
       "    </tr>\n",
       "    <tr>\n",
       "      <th>10</th>\n",
       "      <td>0.136868</td>\n",
       "      <td>-7.373182</td>\n",
       "      <td>0.406392</td>\n",
       "      <td>-1.720402</td>\n",
       "      <td>22.077711</td>\n",
       "      <td>-0.256415</td>\n",
       "      <td>-0.736111</td>\n",
       "      <td>0.237752</td>\n",
       "      <td>-1.103525</td>\n",
       "      <td>-7.174341</td>\n",
       "      <td>4.285338</td>\n",
       "      <td>-0.585743</td>\n",
       "      <td>7.859280e+02</td>\n",
       "    </tr>\n",
       "    <tr>\n",
       "      <th>11</th>\n",
       "      <td>-0.872439</td>\n",
       "      <td>8.142634</td>\n",
       "      <td>1.909503</td>\n",
       "      <td>39.485563</td>\n",
       "      <td>-49.197790</td>\n",
       "      <td>10.476063</td>\n",
       "      <td>11.875839</td>\n",
       "      <td>-1.762567</td>\n",
       "      <td>7.427303</td>\n",
       "      <td>-11.603398</td>\n",
       "      <td>-0.585743</td>\n",
       "      <td>28.136278</td>\n",
       "      <td>-1.914962e+03</td>\n",
       "    </tr>\n",
       "    <tr>\n",
       "      <th>12</th>\n",
       "      <td>2141.495062</td>\n",
       "      <td>-5785.236063</td>\n",
       "      <td>-87.671893</td>\n",
       "      <td>-5745.751782</td>\n",
       "      <td>83343.550564</td>\n",
       "      <td>1469.197195</td>\n",
       "      <td>599.497208</td>\n",
       "      <td>-86.304331</td>\n",
       "      <td>2009.406042</td>\n",
       "      <td>11916.394286</td>\n",
       "      <td>785.927977</td>\n",
       "      <td>-1914.962425</td>\n",
       "      <td>5.198844e+06</td>\n",
       "    </tr>\n",
       "  </tbody>\n",
       "</table>\n",
       "</div>"
      ],
      "text/plain": [
       "             0            1           2            3             4   \\\n",
       "0     45.859182     1.430276   -2.329110   -17.013018      3.138271   \n",
       "1      1.430276   155.320689    3.743391    72.582283   -155.634176   \n",
       "2     -2.329110     3.743391   11.562618    84.728099    120.665125   \n",
       "3    -17.013018    72.582283   84.728099  1401.191957    566.621139   \n",
       "4      3.138271  -155.634176  120.665125   566.621139  31615.110304   \n",
       "5      4.742176    -2.534868    2.829752    19.007669    100.999304   \n",
       "6      3.960549    -1.646618    5.244934    43.123331    116.697710   \n",
       "7     -0.170720     1.780654    1.228605     8.210113    -50.235317   \n",
       "8      2.934978     3.010536    0.469124    16.226898    227.569448   \n",
       "9     43.130146   -45.272514    1.713984   -17.814143    310.171993   \n",
       "10     0.136868    -7.373182    0.406392    -1.720402     22.077711   \n",
       "11    -0.872439     8.142634    1.909503    39.485563    -49.197790   \n",
       "12  2141.495062 -5785.236063  -87.671893 -5745.751782  83343.550564   \n",
       "\n",
       "             5           6          7            8             9           10  \\\n",
       "0      4.742176    3.960549  -0.170720     2.934978     43.130146    0.136868   \n",
       "1     -2.534868   -1.646618   1.780654     3.010536    -45.272514   -7.373182   \n",
       "2      2.829752    5.244934   1.228605     0.469124      1.713984    0.406392   \n",
       "3     19.007669   43.123331   8.210113    16.226898    -17.814143   -1.720402   \n",
       "4    100.999304  116.697710 -50.235317   227.569448    310.171993   22.077711   \n",
       "5     33.472333   28.228731  -1.353757    16.072642     34.821922   -0.256415   \n",
       "6     28.228731   48.073815  -2.671745    22.363830     50.168703   -0.736111   \n",
       "7     -1.353757   -2.671745   2.084548    -1.512148     -0.264371    0.237752   \n",
       "8     16.072642   22.363830  -1.512148    43.080265     40.111238   -1.103525   \n",
       "9     34.821922   50.168703  -0.264371    40.111238    399.861539   -7.174341   \n",
       "10    -0.256415   -0.736111   0.237752    -1.103525     -7.174341    4.285338   \n",
       "11    10.476063   11.875839  -1.762567     7.427303    -11.603398   -0.585743   \n",
       "12  1469.197195  599.497208 -86.304331  2009.406042  11916.394286  785.927977   \n",
       "\n",
       "             11            12  \n",
       "0     -0.872439  2.141495e+03  \n",
       "1      8.142634 -5.785236e+03  \n",
       "2      1.909503 -8.767189e+01  \n",
       "3     39.485563 -5.745752e+03  \n",
       "4    -49.197790  8.334355e+04  \n",
       "5     10.476063  1.469197e+03  \n",
       "6     11.875839  5.994972e+02  \n",
       "7     -1.762567 -8.630433e+01  \n",
       "8      7.427303  2.009406e+03  \n",
       "9    -11.603398  1.191639e+04  \n",
       "10    -0.585743  7.859280e+02  \n",
       "11    28.136278 -1.914962e+03  \n",
       "12 -1914.962425  5.198844e+06  "
      ]
     },
     "execution_count": 195,
     "metadata": {},
     "output_type": "execute_result"
    }
   ],
   "source": [
    "pd.DataFrame(intraclase_scatter_matrix)\n"
   ]
  },
  {
   "cell_type": "markdown",
   "metadata": {},
   "source": [
    "#### 2. Calcularemos ahora las matrices de dispersión interclases  o $\\Sigma_{inter}$"
   ]
  },
  {
   "cell_type": "markdown",
   "metadata": {},
   "source": [
    "- Primero obtendremos las medias por cada caracteristica"
   ]
  },
  {
   "cell_type": "code",
   "execution_count": 196,
   "metadata": {},
   "outputs": [
    {
     "data": {
      "text/plain": [
       "alcohol                          13.000618\n",
       "malic_acid                        2.336348\n",
       "ash                               2.366517\n",
       "alcalinity_of_ash                19.494944\n",
       "magnesium                        99.741573\n",
       "total_phenols                     2.295112\n",
       "flavanoids                        2.029270\n",
       "nonflavanoid_phenols              0.361854\n",
       "proanthocyanins                   1.590899\n",
       "color_intensity                   5.058090\n",
       "hue                               0.957449\n",
       "od280/od315_of_diluted_wines      2.611685\n",
       "proline                         746.893258\n",
       "dtype: float64"
      ]
     },
     "execution_count": 196,
     "metadata": {},
     "output_type": "execute_result"
    }
   ],
   "source": [
    "inter_feature_means = df.mean()\n",
    "inter_feature_means"
   ]
  },
  {
   "cell_type": "markdown",
   "metadata": {},
   "source": [
    "-  Asi obtendremos ya dadas las medias nuestra matriz de dispersion o $\\Sigma_{inter}$, como lo vimos en la clase"
   ]
  },
  {
   "cell_type": "code",
   "execution_count": 197,
   "metadata": {},
   "outputs": [],
   "source": [
    "interclase_scatter_matrix = np.zeros((X.shape[1],X.shape[1]))\n",
    "for c in intra_feature_means:    \n",
    "    nC = len(df.loc[df['class'] == c].index) #Numero de muestras en cada clases\n",
    "    #media_y: media de la caracteristica en cada clase\n",
    "    #media_x: media de las caracteristicas\n",
    "    media_y, media_x = intra_feature_means[c].values.reshape(X.shape[1],1),inter_feature_means.values.reshape(X.shape[1],1)\n",
    "    interclase_scatter_matrix += (nC)* (media_y - media_x).dot((media_y - media_x).T)\n"
   ]
  },
  {
   "cell_type": "code",
   "execution_count": 198,
   "metadata": {},
   "outputs": [
    {
     "data": {
      "text/html": [
       "<div>\n",
       "<style scoped>\n",
       "    .dataframe tbody tr th:only-of-type {\n",
       "        vertical-align: middle;\n",
       "    }\n",
       "\n",
       "    .dataframe tbody tr th {\n",
       "        vertical-align: top;\n",
       "    }\n",
       "\n",
       "    .dataframe thead th {\n",
       "        text-align: right;\n",
       "    }\n",
       "</style>\n",
       "<table border=\"1\" class=\"dataframe\">\n",
       "  <thead>\n",
       "    <tr style=\"text-align: right;\">\n",
       "      <th></th>\n",
       "      <th>0</th>\n",
       "      <th>1</th>\n",
       "      <th>2</th>\n",
       "      <th>3</th>\n",
       "      <th>4</th>\n",
       "      <th>5</th>\n",
       "      <th>6</th>\n",
       "      <th>7</th>\n",
       "      <th>8</th>\n",
       "      <th>9</th>\n",
       "      <th>10</th>\n",
       "      <th>11</th>\n",
       "      <th>12</th>\n",
       "    </tr>\n",
       "  </thead>\n",
       "  <tbody>\n",
       "    <tr>\n",
       "      <th>0</th>\n",
       "      <td>70.794850</td>\n",
       "      <td>13.722926</td>\n",
       "      <td>10.668493</td>\n",
       "      <td>-131.860426</td>\n",
       "      <td>552.620156</td>\n",
       "      <td>21.256862</td>\n",
       "      <td>30.029331</td>\n",
       "      <td>-2.617784</td>\n",
       "      <td>8.307623</td>\n",
       "      <td>138.875865</td>\n",
       "      <td>-2.493348</td>\n",
       "      <td>8.252953</td>\n",
       "      <td>2.698690e+04</td>\n",
       "    </tr>\n",
       "    <tr>\n",
       "      <th>1</th>\n",
       "      <td>13.722926</td>\n",
       "      <td>65.578037</td>\n",
       "      <td>5.155645</td>\n",
       "      <td>117.928430</td>\n",
       "      <td>1.506198</td>\n",
       "      <td>-38.942909</td>\n",
       "      <td>-79.530957</td>\n",
       "      <td>5.429151</td>\n",
       "      <td>-27.993552</td>\n",
       "      <td>159.408872</td>\n",
       "      <td>-17.995455</td>\n",
       "      <td>-59.905838</td>\n",
       "      <td>-6.170913e+03</td>\n",
       "    </tr>\n",
       "    <tr>\n",
       "      <th>2</th>\n",
       "      <td>10.668493</td>\n",
       "      <td>5.155645</td>\n",
       "      <td>1.759223</td>\n",
       "      <td>-12.829234</td>\n",
       "      <td>78.094650</td>\n",
       "      <td>1.090017</td>\n",
       "      <td>0.336713</td>\n",
       "      <td>-0.103155</td>\n",
       "      <td>-0.200866</td>\n",
       "      <td>27.429832</td>\n",
       "      <td>-1.235134</td>\n",
       "      <td>-1.774658</td>\n",
       "      <td>3.507266e+03</td>\n",
       "    </tr>\n",
       "    <tr>\n",
       "      <th>3</th>\n",
       "      <td>-131.860426</td>\n",
       "      <td>117.928430</td>\n",
       "      <td>-12.829234</td>\n",
       "      <td>572.833493</td>\n",
       "      <td>-1270.153723</td>\n",
       "      <td>-137.801068</td>\n",
       "      <td>-250.581989</td>\n",
       "      <td>18.414556</td>\n",
       "      <td>-82.987089</td>\n",
       "      <td>43.483423</td>\n",
       "      <td>-35.293494</td>\n",
       "      <td>-155.639047</td>\n",
       "      <td>-7.626814e+04</td>\n",
       "    </tr>\n",
       "    <tr>\n",
       "      <th>4</th>\n",
       "      <td>552.620156</td>\n",
       "      <td>1.506198</td>\n",
       "      <td>78.094650</td>\n",
       "      <td>-1270.153723</td>\n",
       "      <td>4491.002056</td>\n",
       "      <td>238.215865</td>\n",
       "      <td>377.678695</td>\n",
       "      <td>-30.399402</td>\n",
       "      <td>114.541900</td>\n",
       "      <td>861.660156</td>\n",
       "      <td>9.932963</td>\n",
       "      <td>167.665318</td>\n",
       "      <td>2.297975e+05</td>\n",
       "    </tr>\n",
       "    <tr>\n",
       "      <th>5</th>\n",
       "      <td>21.256862</td>\n",
       "      <td>-38.942909</td>\n",
       "      <td>1.090017</td>\n",
       "      <td>-137.801068</td>\n",
       "      <td>238.215865</td>\n",
       "      <td>35.856715</td>\n",
       "      <td>67.434533</td>\n",
       "      <td>-4.849230</td>\n",
       "      <td>22.756440</td>\n",
       "      <td>-48.981483</td>\n",
       "      <td>11.237296</td>\n",
       "      <td>44.574704</td>\n",
       "      <td>1.590708e+04</td>\n",
       "    </tr>\n",
       "    <tr>\n",
       "      <th>6</th>\n",
       "      <td>30.029331</td>\n",
       "      <td>-79.530957</td>\n",
       "      <td>0.336713</td>\n",
       "      <td>-250.581989</td>\n",
       "      <td>377.678695</td>\n",
       "      <td>67.434533</td>\n",
       "      <td>128.522390</td>\n",
       "      <td>-9.163714</td>\n",
       "      <td>43.683287</td>\n",
       "      <td>-120.821550</td>\n",
       "      <td>22.698620</td>\n",
       "      <td>86.936580</td>\n",
       "      <td>2.691471e+04</td>\n",
       "    </tr>\n",
       "    <tr>\n",
       "      <th>7</th>\n",
       "      <td>-2.617784</td>\n",
       "      <td>5.429151</td>\n",
       "      <td>-0.103155</td>\n",
       "      <td>18.414556</td>\n",
       "      <td>-30.399402</td>\n",
       "      <td>-4.849230</td>\n",
       "      <td>-9.163714</td>\n",
       "      <td>0.656940</td>\n",
       "      <td>-3.100448</td>\n",
       "      <td>7.365701</td>\n",
       "      <td>-1.560150</td>\n",
       "      <td>-6.108490</td>\n",
       "      <td>-2.073730e+03</td>\n",
       "    </tr>\n",
       "    <tr>\n",
       "      <th>8</th>\n",
       "      <td>8.307623</td>\n",
       "      <td>-27.993552</td>\n",
       "      <td>-0.200866</td>\n",
       "      <td>-82.987089</td>\n",
       "      <td>114.541900</td>\n",
       "      <td>22.756440</td>\n",
       "      <td>43.683287</td>\n",
       "      <td>-3.100448</td>\n",
       "      <td>14.903991</td>\n",
       "      <td>-46.041431</td>\n",
       "      <td>7.947153</td>\n",
       "      <td>29.907828</td>\n",
       "      <td>8.531711e+03</td>\n",
       "    </tr>\n",
       "    <tr>\n",
       "      <th>9</th>\n",
       "      <td>138.875865</td>\n",
       "      <td>159.408872</td>\n",
       "      <td>27.429832</td>\n",
       "      <td>43.483423</td>\n",
       "      <td>861.660156</td>\n",
       "      <td>-48.981483</td>\n",
       "      <td>-120.821550</td>\n",
       "      <td>7.365701</td>\n",
       "      <td>-46.041431</td>\n",
       "      <td>551.416002</td>\n",
       "      <td>-41.767185</td>\n",
       "      <td>-113.325428</td>\n",
       "      <td>2.892945e+04</td>\n",
       "    </tr>\n",
       "    <tr>\n",
       "      <th>10</th>\n",
       "      <td>-2.493348</td>\n",
       "      <td>-17.995455</td>\n",
       "      <td>-1.235134</td>\n",
       "      <td>-35.293494</td>\n",
       "      <td>9.932963</td>\n",
       "      <td>11.237296</td>\n",
       "      <td>22.698620</td>\n",
       "      <td>-1.560150</td>\n",
       "      <td>7.947153</td>\n",
       "      <td>-41.767185</td>\n",
       "      <td>4.962020</td>\n",
       "      <td>16.828368</td>\n",
       "      <td>2.223112e+03</td>\n",
       "    </tr>\n",
       "    <tr>\n",
       "      <th>11</th>\n",
       "      <td>8.252953</td>\n",
       "      <td>-59.905838</td>\n",
       "      <td>-1.774658</td>\n",
       "      <td>-155.639047</td>\n",
       "      <td>167.665318</td>\n",
       "      <td>44.574704</td>\n",
       "      <td>86.936580</td>\n",
       "      <td>-6.108490</td>\n",
       "      <td>29.907828</td>\n",
       "      <td>-113.325428</td>\n",
       "      <td>16.828368</td>\n",
       "      <td>61.087017</td>\n",
       "      <td>1.429213e+04</td>\n",
       "    </tr>\n",
       "    <tr>\n",
       "      <th>12</th>\n",
       "      <td>26986.896680</td>\n",
       "      <td>-6170.913319</td>\n",
       "      <td>3507.265713</td>\n",
       "      <td>-76268.144285</td>\n",
       "      <td>229797.539324</td>\n",
       "      <td>15907.079940</td>\n",
       "      <td>26914.708915</td>\n",
       "      <td>-2073.730444</td>\n",
       "      <td>8531.711037</td>\n",
       "      <td>28929.449698</td>\n",
       "      <td>2223.111562</td>\n",
       "      <td>14292.134448</td>\n",
       "      <td>1.235366e+07</td>\n",
       "    </tr>\n",
       "  </tbody>\n",
       "</table>\n",
       "</div>"
      ],
      "text/plain": [
       "              0            1            2             3              4   \\\n",
       "0      70.794850    13.722926    10.668493   -131.860426     552.620156   \n",
       "1      13.722926    65.578037     5.155645    117.928430       1.506198   \n",
       "2      10.668493     5.155645     1.759223    -12.829234      78.094650   \n",
       "3    -131.860426   117.928430   -12.829234    572.833493   -1270.153723   \n",
       "4     552.620156     1.506198    78.094650  -1270.153723    4491.002056   \n",
       "5      21.256862   -38.942909     1.090017   -137.801068     238.215865   \n",
       "6      30.029331   -79.530957     0.336713   -250.581989     377.678695   \n",
       "7      -2.617784     5.429151    -0.103155     18.414556     -30.399402   \n",
       "8       8.307623   -27.993552    -0.200866    -82.987089     114.541900   \n",
       "9     138.875865   159.408872    27.429832     43.483423     861.660156   \n",
       "10     -2.493348   -17.995455    -1.235134    -35.293494       9.932963   \n",
       "11      8.252953   -59.905838    -1.774658   -155.639047     167.665318   \n",
       "12  26986.896680 -6170.913319  3507.265713 -76268.144285  229797.539324   \n",
       "\n",
       "              5             6            7            8             9   \\\n",
       "0      21.256862     30.029331    -2.617784     8.307623    138.875865   \n",
       "1     -38.942909    -79.530957     5.429151   -27.993552    159.408872   \n",
       "2       1.090017      0.336713    -0.103155    -0.200866     27.429832   \n",
       "3    -137.801068   -250.581989    18.414556   -82.987089     43.483423   \n",
       "4     238.215865    377.678695   -30.399402   114.541900    861.660156   \n",
       "5      35.856715     67.434533    -4.849230    22.756440    -48.981483   \n",
       "6      67.434533    128.522390    -9.163714    43.683287   -120.821550   \n",
       "7      -4.849230     -9.163714     0.656940    -3.100448      7.365701   \n",
       "8      22.756440     43.683287    -3.100448    14.903991    -46.041431   \n",
       "9     -48.981483   -120.821550     7.365701   -46.041431    551.416002   \n",
       "10     11.237296     22.698620    -1.560150     7.947153    -41.767185   \n",
       "11     44.574704     86.936580    -6.108490    29.907828   -113.325428   \n",
       "12  15907.079940  26914.708915 -2073.730444  8531.711037  28929.449698   \n",
       "\n",
       "             10            11            12  \n",
       "0     -2.493348      8.252953  2.698690e+04  \n",
       "1    -17.995455    -59.905838 -6.170913e+03  \n",
       "2     -1.235134     -1.774658  3.507266e+03  \n",
       "3    -35.293494   -155.639047 -7.626814e+04  \n",
       "4      9.932963    167.665318  2.297975e+05  \n",
       "5     11.237296     44.574704  1.590708e+04  \n",
       "6     22.698620     86.936580  2.691471e+04  \n",
       "7     -1.560150     -6.108490 -2.073730e+03  \n",
       "8      7.947153     29.907828  8.531711e+03  \n",
       "9    -41.767185   -113.325428  2.892945e+04  \n",
       "10     4.962020     16.828368  2.223112e+03  \n",
       "11    16.828368     61.087017  1.429213e+04  \n",
       "12  2223.111562  14292.134448  1.235366e+07  "
      ]
     },
     "execution_count": 198,
     "metadata": {},
     "output_type": "execute_result"
    }
   ],
   "source": [
    "interclase_scatter_matrix=pd.DataFrame(interclase_scatter_matrix)\n",
    "interclase_scatter_matrix"
   ]
  },
  {
   "cell_type": "markdown",
   "metadata": {},
   "source": [
    "#### 3. Luego hallaremos los valores y vectores propios"
   ]
  },
  {
   "cell_type": "markdown",
   "metadata": {},
   "source": [
    "- Calcularemos nuestros vectores y valores propios con la función\n",
    "\n",
    "    -np.linalg.eig: Calcula los valores y vectores propios de una matriz cuadrada."
   ]
  },
  {
   "cell_type": "code",
   "execution_count": 199,
   "metadata": {},
   "outputs": [],
   "source": [
    "\n",
    "valores_propios, vectores_propios = np.linalg.eig(np.linalg.inv(intraclase_scatter_matrix).dot(interclase_scatter_matrix))"
   ]
  },
  {
   "cell_type": "markdown",
   "metadata": {},
   "source": [
    "- Luego se le aplicara valor absoluto y se organiza en orden descendente"
   ]
  },
  {
   "cell_type": "code",
   "execution_count": 200,
   "metadata": {},
   "outputs": [
    {
     "name": "stdout",
     "output_type": "stream",
     "text": [
      "9.081739435042472\n",
      "4.128469045639484\n",
      "8.881784197001252e-16\n",
      "7.41949604398113e-16\n",
      "7.41949604398113e-16\n",
      "6.57104310784389e-16\n",
      "6.57104310784389e-16\n",
      "2.9039090283069212e-16\n",
      "2.9039090283069212e-16\n",
      "2.58525572226227e-16\n",
      "6.126103277916086e-17\n",
      "6.126103277916086e-17\n",
      "4.86945776983596e-17\n"
     ]
    }
   ],
   "source": [
    "pares_propios = [(np.abs(valores_propios[i]),vectores_propios[:,i]) for i in range(len(valores_propios))] #abs\n",
    "pares_propios = sorted(pares_propios, key=lambda x: x[0], reverse=True) #Orden descendente\n",
    "for par in pares_propios:\n",
    "    print(par[0])"
   ]
  },
  {
   "cell_type": "markdown",
   "metadata": {},
   "source": [
    "#### 4. Calcularemos la varianza explicada, el cual es el porcentaje de varianza que aporta cada vector propio, entre mas grande más información nos aporta."
   ]
  },
  {
   "cell_type": "code",
   "execution_count": 202,
   "metadata": {},
   "outputs": [
    {
     "name": "stdout",
     "output_type": "stream",
     "text": [
      "Varianza Explicada\n",
      "Vector Propio 0: 68.74788878860784%\n",
      "Vector Propio 1: 31.252111211392165%\n",
      "Vector Propio 2: 6.723424698398662e-15%\n",
      "Vector Propio 3: 5.616486715430028e-15%\n",
      "Vector Propio 4: 5.616486715430028e-15%\n",
      "Vector Propio 5: 4.974216052269805e-15%\n",
      "Vector Propio 6: 4.974216052269805e-15%\n",
      "Vector Propio 7: 2.1982310366664336e-15%\n",
      "Vector Propio 8: 2.1982310366664336e-15%\n",
      "Vector Propio 9: 1.9570135672293418e-15%\n",
      "Vector Propio 10: 4.637400906181486e-16%\n",
      "Vector Propio 11: 4.637400906181486e-16%\n",
      "Vector Propio 12: 3.686132415666904e-16%\n"
     ]
    }
   ],
   "source": [
    "suma_valor_propio = sum(valores_propios)\n",
    "print('Varianza Explicada')\n",
    "for i, par in enumerate(pares_propios):\n",
    "    \n",
    "    print('Vector Propio {}: {}'.format(i, (par[0]/suma_valor_propio).real*100 )+ '%')"
   ]
  },
  {
   "cell_type": "markdown",
   "metadata": {},
   "source": [
    "#### 5. Ahora ya podremos obtener nuestro $\\boldsymbol{W}$\n",
    "$$\\phi(\\boldsymbol{X})=\\boldsymbol{W}^{T}\\boldsymbol{X}$$"
   ]
  },
  {
   "cell_type": "code",
   "execution_count": 203,
   "metadata": {},
   "outputs": [],
   "source": [
    "w_matrix = np.hstack((pares_propios[0][1].reshape(X.shape[1],1), pares_propios[1][1].reshape(X.shape[1],1))).real"
   ]
  },
  {
   "cell_type": "code",
   "execution_count": 204,
   "metadata": {},
   "outputs": [
    {
     "data": {
      "text/html": [
       "<div>\n",
       "<style scoped>\n",
       "    .dataframe tbody tr th:only-of-type {\n",
       "        vertical-align: middle;\n",
       "    }\n",
       "\n",
       "    .dataframe tbody tr th {\n",
       "        vertical-align: top;\n",
       "    }\n",
       "\n",
       "    .dataframe thead th {\n",
       "        text-align: right;\n",
       "    }\n",
       "</style>\n",
       "<table border=\"1\" class=\"dataframe\">\n",
       "  <thead>\n",
       "    <tr style=\"text-align: right;\">\n",
       "      <th></th>\n",
       "      <th>0</th>\n",
       "      <th>1</th>\n",
       "    </tr>\n",
       "  </thead>\n",
       "  <tbody>\n",
       "    <tr>\n",
       "      <th>0</th>\n",
       "      <td>-0.143683</td>\n",
       "      <td>-0.254447</td>\n",
       "    </tr>\n",
       "    <tr>\n",
       "      <th>1</th>\n",
       "      <td>0.058860</td>\n",
       "      <td>-0.089130</td>\n",
       "    </tr>\n",
       "    <tr>\n",
       "      <th>2</th>\n",
       "      <td>-0.131457</td>\n",
       "      <td>-0.684674</td>\n",
       "    </tr>\n",
       "    <tr>\n",
       "      <th>3</th>\n",
       "      <td>0.055136</td>\n",
       "      <td>0.042724</td>\n",
       "    </tr>\n",
       "    <tr>\n",
       "      <th>4</th>\n",
       "      <td>-0.000771</td>\n",
       "      <td>0.000135</td>\n",
       "    </tr>\n",
       "    <tr>\n",
       "      <th>5</th>\n",
       "      <td>0.220138</td>\n",
       "      <td>0.009402</td>\n",
       "    </tr>\n",
       "    <tr>\n",
       "      <th>6</th>\n",
       "      <td>-0.591684</td>\n",
       "      <td>0.143598</td>\n",
       "    </tr>\n",
       "    <tr>\n",
       "      <th>7</th>\n",
       "      <td>-0.532781</td>\n",
       "      <td>0.476020</td>\n",
       "    </tr>\n",
       "    <tr>\n",
       "      <th>8</th>\n",
       "      <td>0.047761</td>\n",
       "      <td>0.089628</td>\n",
       "    </tr>\n",
       "    <tr>\n",
       "      <th>9</th>\n",
       "      <td>0.126464</td>\n",
       "      <td>-0.073909</td>\n",
       "    </tr>\n",
       "    <tr>\n",
       "      <th>10</th>\n",
       "      <td>-0.291369</td>\n",
       "      <td>0.442363</td>\n",
       "    </tr>\n",
       "    <tr>\n",
       "      <th>11</th>\n",
       "      <td>-0.412300</td>\n",
       "      <td>-0.014939</td>\n",
       "    </tr>\n",
       "    <tr>\n",
       "      <th>12</th>\n",
       "      <td>-0.000959</td>\n",
       "      <td>-0.000833</td>\n",
       "    </tr>\n",
       "  </tbody>\n",
       "</table>\n",
       "</div>"
      ],
      "text/plain": [
       "           0         1\n",
       "0  -0.143683 -0.254447\n",
       "1   0.058860 -0.089130\n",
       "2  -0.131457 -0.684674\n",
       "3   0.055136  0.042724\n",
       "4  -0.000771  0.000135\n",
       "5   0.220138  0.009402\n",
       "6  -0.591684  0.143598\n",
       "7  -0.532781  0.476020\n",
       "8   0.047761  0.089628\n",
       "9   0.126464 -0.073909\n",
       "10 -0.291369  0.442363\n",
       "11 -0.412300 -0.014939\n",
       "12 -0.000959 -0.000833"
      ]
     },
     "execution_count": 204,
     "metadata": {},
     "output_type": "execute_result"
    }
   ],
   "source": [
    "pd.DataFrame(w_matrix)"
   ]
  },
  {
   "cell_type": "markdown",
   "metadata": {},
   "source": [
    "#### 6. $$\\phi(\\boldsymbol{X})=\\boldsymbol{W}^{T}\\boldsymbol{X}$$\n",
    "\n",
    "p: dimension del espacio de caracteristicas transformado por LDA=k-1=3-1=2\n",
    "\n",
    "m:numero de muestras=150\n",
    "\n",
    "d: dimension original de las caracteristicas=4\n",
    "\n",
    "X: matriz mxd (150x4)\n",
    "W: matriz dxp (4x2)\n",
    "\n",
    "$\\phi(X): matriz (150x4) \\dot (4x2)= matriz 150x2$\n",
    "\n",
    "mxd dxp\n",
    "\n",
    "\n",
    "\n"
   ]
  },
  {
   "cell_type": "code",
   "execution_count": 205,
   "metadata": {},
   "outputs": [
    {
     "data": {
      "text/html": [
       "<div>\n",
       "<style scoped>\n",
       "    .dataframe tbody tr th:only-of-type {\n",
       "        vertical-align: middle;\n",
       "    }\n",
       "\n",
       "    .dataframe tbody tr th {\n",
       "        vertical-align: top;\n",
       "    }\n",
       "\n",
       "    .dataframe thead th {\n",
       "        text-align: right;\n",
       "    }\n",
       "</style>\n",
       "<table border=\"1\" class=\"dataframe\">\n",
       "  <thead>\n",
       "    <tr style=\"text-align: right;\">\n",
       "      <th></th>\n",
       "      <th>0</th>\n",
       "      <th>1</th>\n",
       "    </tr>\n",
       "  </thead>\n",
       "  <tbody>\n",
       "    <tr>\n",
       "      <th>0</th>\n",
       "      <td>-4.961962</td>\n",
       "      <td>-4.851209</td>\n",
       "    </tr>\n",
       "    <tr>\n",
       "      <th>1</th>\n",
       "      <td>-4.820100</td>\n",
       "      <td>-4.615169</td>\n",
       "    </tr>\n",
       "    <tr>\n",
       "      <th>2</th>\n",
       "      <td>-4.506220</td>\n",
       "      <td>-4.690671</td>\n",
       "    </tr>\n",
       "    <tr>\n",
       "      <th>3</th>\n",
       "      <td>-4.785834</td>\n",
       "      <td>-5.441868</td>\n",
       "    </tr>\n",
       "    <tr>\n",
       "      <th>4</th>\n",
       "      <td>-3.825653</td>\n",
       "      <td>-4.405262</td>\n",
       "    </tr>\n",
       "    <tr>\n",
       "      <th>5</th>\n",
       "      <td>-4.897296</td>\n",
       "      <td>-5.211371</td>\n",
       "    </tr>\n",
       "    <tr>\n",
       "      <th>6</th>\n",
       "      <td>-4.900391</td>\n",
       "      <td>-5.227711</td>\n",
       "    </tr>\n",
       "    <tr>\n",
       "      <th>7</th>\n",
       "      <td>-4.765387</td>\n",
       "      <td>-5.179552</td>\n",
       "    </tr>\n",
       "    <tr>\n",
       "      <th>8</th>\n",
       "      <td>-4.662979</td>\n",
       "      <td>-4.843691</td>\n",
       "    </tr>\n",
       "    <tr>\n",
       "      <th>9</th>\n",
       "      <td>-4.486953</td>\n",
       "      <td>-4.763504</td>\n",
       "    </tr>\n",
       "    <tr>\n",
       "      <th>10</th>\n",
       "      <td>-4.999587</td>\n",
       "      <td>-4.925992</td>\n",
       "    </tr>\n",
       "    <tr>\n",
       "      <th>11</th>\n",
       "      <td>-4.508841</td>\n",
       "      <td>-4.908406</td>\n",
       "    </tr>\n",
       "    <tr>\n",
       "      <th>12</th>\n",
       "      <td>-4.593621</td>\n",
       "      <td>-4.933909</td>\n",
       "    </tr>\n",
       "    <tr>\n",
       "      <th>13</th>\n",
       "      <td>-5.278251</td>\n",
       "      <td>-4.873288</td>\n",
       "    </tr>\n",
       "    <tr>\n",
       "      <th>14</th>\n",
       "      <td>-5.247288</td>\n",
       "      <td>-5.328092</td>\n",
       "    </tr>\n",
       "    <tr>\n",
       "      <th>15</th>\n",
       "      <td>-4.422173</td>\n",
       "      <td>-5.116920</td>\n",
       "    </tr>\n",
       "    <tr>\n",
       "      <th>16</th>\n",
       "      <td>-4.459436</td>\n",
       "      <td>-5.080821</td>\n",
       "    </tr>\n",
       "    <tr>\n",
       "      <th>17</th>\n",
       "      <td>-4.355689</td>\n",
       "      <td>-4.689507</td>\n",
       "    </tr>\n",
       "    <tr>\n",
       "      <th>18</th>\n",
       "      <td>-5.156493</td>\n",
       "      <td>-5.356338</td>\n",
       "    </tr>\n",
       "    <tr>\n",
       "      <th>19</th>\n",
       "      <td>-4.404998</td>\n",
       "      <td>-4.850555</td>\n",
       "    </tr>\n",
       "    <tr>\n",
       "      <th>20</th>\n",
       "      <td>-4.562055</td>\n",
       "      <td>-4.437728</td>\n",
       "    </tr>\n",
       "    <tr>\n",
       "      <th>21</th>\n",
       "      <td>-3.890046</td>\n",
       "      <td>-4.540162</td>\n",
       "    </tr>\n",
       "    <tr>\n",
       "      <th>22</th>\n",
       "      <td>-5.010013</td>\n",
       "      <td>-4.540553</td>\n",
       "    </tr>\n",
       "    <tr>\n",
       "      <th>23</th>\n",
       "      <td>-4.390522</td>\n",
       "      <td>-4.453751</td>\n",
       "    </tr>\n",
       "    <tr>\n",
       "      <th>24</th>\n",
       "      <td>-4.470933</td>\n",
       "      <td>-4.360680</td>\n",
       "    </tr>\n",
       "    <tr>\n",
       "      <th>25</th>\n",
       "      <td>-4.051771</td>\n",
       "      <td>-4.321341</td>\n",
       "    </tr>\n",
       "    <tr>\n",
       "      <th>26</th>\n",
       "      <td>-4.706290</td>\n",
       "      <td>-4.908420</td>\n",
       "    </tr>\n",
       "    <tr>\n",
       "      <th>27</th>\n",
       "      <td>-4.244497</td>\n",
       "      <td>-4.629207</td>\n",
       "    </tr>\n",
       "    <tr>\n",
       "      <th>28</th>\n",
       "      <td>-4.556932</td>\n",
       "      <td>-4.576574</td>\n",
       "    </tr>\n",
       "    <tr>\n",
       "      <th>29</th>\n",
       "      <td>-4.417993</td>\n",
       "      <td>-4.675726</td>\n",
       "    </tr>\n",
       "    <tr>\n",
       "      <th>...</th>\n",
       "      <td>...</td>\n",
       "      <td>...</td>\n",
       "    </tr>\n",
       "    <tr>\n",
       "      <th>148</th>\n",
       "      <td>-1.512768</td>\n",
       "      <td>-4.867500</td>\n",
       "    </tr>\n",
       "    <tr>\n",
       "      <th>149</th>\n",
       "      <td>-1.553340</td>\n",
       "      <td>-4.801355</td>\n",
       "    </tr>\n",
       "    <tr>\n",
       "      <th>150</th>\n",
       "      <td>-1.649862</td>\n",
       "      <td>-4.820009</td>\n",
       "    </tr>\n",
       "    <tr>\n",
       "      <th>151</th>\n",
       "      <td>-1.266688</td>\n",
       "      <td>-4.806455</td>\n",
       "    </tr>\n",
       "    <tr>\n",
       "      <th>152</th>\n",
       "      <td>-1.389434</td>\n",
       "      <td>-4.443485</td>\n",
       "    </tr>\n",
       "    <tr>\n",
       "      <th>153</th>\n",
       "      <td>-1.494810</td>\n",
       "      <td>-4.938238</td>\n",
       "    </tr>\n",
       "    <tr>\n",
       "      <th>154</th>\n",
       "      <td>-1.677605</td>\n",
       "      <td>-4.271599</td>\n",
       "    </tr>\n",
       "    <tr>\n",
       "      <th>155</th>\n",
       "      <td>-1.472076</td>\n",
       "      <td>-4.857770</td>\n",
       "    </tr>\n",
       "    <tr>\n",
       "      <th>156</th>\n",
       "      <td>-1.491365</td>\n",
       "      <td>-5.006705</td>\n",
       "    </tr>\n",
       "    <tr>\n",
       "      <th>157</th>\n",
       "      <td>-1.553296</td>\n",
       "      <td>-4.592161</td>\n",
       "    </tr>\n",
       "    <tr>\n",
       "      <th>158</th>\n",
       "      <td>-1.288526</td>\n",
       "      <td>-5.144609</td>\n",
       "    </tr>\n",
       "    <tr>\n",
       "      <th>159</th>\n",
       "      <td>-1.268116</td>\n",
       "      <td>-4.936997</td>\n",
       "    </tr>\n",
       "    <tr>\n",
       "      <th>160</th>\n",
       "      <td>-1.373664</td>\n",
       "      <td>-4.496105</td>\n",
       "    </tr>\n",
       "    <tr>\n",
       "      <th>161</th>\n",
       "      <td>-2.183755</td>\n",
       "      <td>-4.840096</td>\n",
       "    </tr>\n",
       "    <tr>\n",
       "      <th>162</th>\n",
       "      <td>-2.091458</td>\n",
       "      <td>-4.433709</td>\n",
       "    </tr>\n",
       "    <tr>\n",
       "      <th>163</th>\n",
       "      <td>-2.205012</td>\n",
       "      <td>-4.698811</td>\n",
       "    </tr>\n",
       "    <tr>\n",
       "      <th>164</th>\n",
       "      <td>-1.525227</td>\n",
       "      <td>-4.912730</td>\n",
       "    </tr>\n",
       "    <tr>\n",
       "      <th>165</th>\n",
       "      <td>-1.668970</td>\n",
       "      <td>-4.629612</td>\n",
       "    </tr>\n",
       "    <tr>\n",
       "      <th>166</th>\n",
       "      <td>-1.409844</td>\n",
       "      <td>-5.066341</td>\n",
       "    </tr>\n",
       "    <tr>\n",
       "      <th>167</th>\n",
       "      <td>-1.460563</td>\n",
       "      <td>-4.942442</td>\n",
       "    </tr>\n",
       "    <tr>\n",
       "      <th>168</th>\n",
       "      <td>-1.754583</td>\n",
       "      <td>-4.971454</td>\n",
       "    </tr>\n",
       "    <tr>\n",
       "      <th>169</th>\n",
       "      <td>-1.477230</td>\n",
       "      <td>-5.195181</td>\n",
       "    </tr>\n",
       "    <tr>\n",
       "      <th>170</th>\n",
       "      <td>-1.839085</td>\n",
       "      <td>-4.366648</td>\n",
       "    </tr>\n",
       "    <tr>\n",
       "      <th>171</th>\n",
       "      <td>-1.242592</td>\n",
       "      <td>-4.701757</td>\n",
       "    </tr>\n",
       "    <tr>\n",
       "      <th>172</th>\n",
       "      <td>-1.691407</td>\n",
       "      <td>-5.238791</td>\n",
       "    </tr>\n",
       "    <tr>\n",
       "      <th>173</th>\n",
       "      <td>-1.759275</td>\n",
       "      <td>-5.263088</td>\n",
       "    </tr>\n",
       "    <tr>\n",
       "      <th>174</th>\n",
       "      <td>-1.683840</td>\n",
       "      <td>-4.881682</td>\n",
       "    </tr>\n",
       "    <tr>\n",
       "      <th>175</th>\n",
       "      <td>-1.490016</td>\n",
       "      <td>-5.206437</td>\n",
       "    </tr>\n",
       "    <tr>\n",
       "      <th>176</th>\n",
       "      <td>-1.764743</td>\n",
       "      <td>-4.983205</td>\n",
       "    </tr>\n",
       "    <tr>\n",
       "      <th>177</th>\n",
       "      <td>-1.315268</td>\n",
       "      <td>-5.161439</td>\n",
       "    </tr>\n",
       "  </tbody>\n",
       "</table>\n",
       "<p>178 rows × 2 columns</p>\n",
       "</div>"
      ],
      "text/plain": [
       "            0         1\n",
       "0   -4.961962 -4.851209\n",
       "1   -4.820100 -4.615169\n",
       "2   -4.506220 -4.690671\n",
       "3   -4.785834 -5.441868\n",
       "4   -3.825653 -4.405262\n",
       "5   -4.897296 -5.211371\n",
       "6   -4.900391 -5.227711\n",
       "7   -4.765387 -5.179552\n",
       "8   -4.662979 -4.843691\n",
       "9   -4.486953 -4.763504\n",
       "10  -4.999587 -4.925992\n",
       "11  -4.508841 -4.908406\n",
       "12  -4.593621 -4.933909\n",
       "13  -5.278251 -4.873288\n",
       "14  -5.247288 -5.328092\n",
       "15  -4.422173 -5.116920\n",
       "16  -4.459436 -5.080821\n",
       "17  -4.355689 -4.689507\n",
       "18  -5.156493 -5.356338\n",
       "19  -4.404998 -4.850555\n",
       "20  -4.562055 -4.437728\n",
       "21  -3.890046 -4.540162\n",
       "22  -5.010013 -4.540553\n",
       "23  -4.390522 -4.453751\n",
       "24  -4.470933 -4.360680\n",
       "25  -4.051771 -4.321341\n",
       "26  -4.706290 -4.908420\n",
       "27  -4.244497 -4.629207\n",
       "28  -4.556932 -4.576574\n",
       "29  -4.417993 -4.675726\n",
       "..        ...       ...\n",
       "148 -1.512768 -4.867500\n",
       "149 -1.553340 -4.801355\n",
       "150 -1.649862 -4.820009\n",
       "151 -1.266688 -4.806455\n",
       "152 -1.389434 -4.443485\n",
       "153 -1.494810 -4.938238\n",
       "154 -1.677605 -4.271599\n",
       "155 -1.472076 -4.857770\n",
       "156 -1.491365 -5.006705\n",
       "157 -1.553296 -4.592161\n",
       "158 -1.288526 -5.144609\n",
       "159 -1.268116 -4.936997\n",
       "160 -1.373664 -4.496105\n",
       "161 -2.183755 -4.840096\n",
       "162 -2.091458 -4.433709\n",
       "163 -2.205012 -4.698811\n",
       "164 -1.525227 -4.912730\n",
       "165 -1.668970 -4.629612\n",
       "166 -1.409844 -5.066341\n",
       "167 -1.460563 -4.942442\n",
       "168 -1.754583 -4.971454\n",
       "169 -1.477230 -5.195181\n",
       "170 -1.839085 -4.366648\n",
       "171 -1.242592 -4.701757\n",
       "172 -1.691407 -5.238791\n",
       "173 -1.759275 -5.263088\n",
       "174 -1.683840 -4.881682\n",
       "175 -1.490016 -5.206437\n",
       "176 -1.764743 -4.983205\n",
       "177 -1.315268 -5.161439\n",
       "\n",
       "[178 rows x 2 columns]"
      ]
     },
     "execution_count": 205,
     "metadata": {},
     "output_type": "execute_result"
    }
   ],
   "source": [
    "X_lda = np.array(X.dot(w_matrix))\n",
    "pd.DataFrame(X_lda)"
   ]
  },
  {
   "cell_type": "markdown",
   "metadata": {},
   "source": [
    "Label encoder se utiliza cuando tienes etiquetas categoricas y las quieres pasar a variables de números discretos"
   ]
  },
  {
   "cell_type": "code",
   "execution_count": 206,
   "metadata": {},
   "outputs": [
    {
     "data": {
      "text/plain": [
       "array(['class_0', 'class_1', 'class_2'], dtype='<U7')"
      ]
     },
     "execution_count": 206,
     "metadata": {},
     "output_type": "execute_result"
    }
   ],
   "source": [
    "data_info.target_names"
   ]
  },
  {
   "cell_type": "code",
   "execution_count": 207,
   "metadata": {},
   "outputs": [
    {
     "data": {
      "text/plain": [
       "array([0, 0, 0, 0, 0, 0, 0, 0, 0, 0, 0, 0, 0, 0, 0, 0, 0, 0, 0, 0, 0, 0,\n",
       "       0, 0, 0, 0, 0, 0, 0, 0, 0, 0, 0, 0, 0, 0, 0, 0, 0, 0, 0, 0, 0, 0,\n",
       "       0, 0, 0, 0, 0, 0, 0, 0, 0, 0, 0, 0, 0, 0, 0, 1, 1, 1, 1, 1, 1, 1,\n",
       "       1, 1, 1, 1, 1, 1, 1, 1, 1, 1, 1, 1, 1, 1, 1, 1, 1, 1, 1, 1, 1, 1,\n",
       "       1, 1, 1, 1, 1, 1, 1, 1, 1, 1, 1, 1, 1, 1, 1, 1, 1, 1, 1, 1, 1, 1,\n",
       "       1, 1, 1, 1, 1, 1, 1, 1, 1, 1, 1, 1, 1, 1, 1, 1, 1, 1, 1, 1, 2, 2,\n",
       "       2, 2, 2, 2, 2, 2, 2, 2, 2, 2, 2, 2, 2, 2, 2, 2, 2, 2, 2, 2, 2, 2,\n",
       "       2, 2, 2, 2, 2, 2, 2, 2, 2, 2, 2, 2, 2, 2, 2, 2, 2, 2, 2, 2, 2, 2,\n",
       "       2, 2])"
      ]
     },
     "execution_count": 207,
     "metadata": {},
     "output_type": "execute_result"
    }
   ],
   "source": [
    "le = LabelEncoder()\n",
    "y = le.fit_transform(df['class'])\n",
    "y"
   ]
  },
  {
   "cell_type": "code",
   "execution_count": 208,
   "metadata": {},
   "outputs": [
    {
     "data": {
      "image/png": "[encoded data removed]",
      "text/plain": [
       "<Figure size 432x288 with 1 Axes>"
      ]
     },
     "metadata": {
      "needs_background": "light"
     },
     "output_type": "display_data"
    }
   ],
   "source": [
    "plt.xlabel('LD1')\n",
    "plt.ylabel('LD2')\n",
    "plt.scatter(\n",
    "    X_lda[:,0],\n",
    "    X_lda[:,1],\n",
    "    c=y,\n",
    "    cmap='plasma',\n",
    "    alpha=0.8,\n",
    "    edgecolors='b'\n",
    ")\n",
    "plt.show()"
   ]
  },
  {
   "cell_type": "code",
   "execution_count": null,
   "metadata": {},
   "outputs": [],
   "source": []
  },
  {
   "cell_type": "markdown",
   "metadata": {},
   "source": [
    "## Ahora resumiremos esto usando la función de sklearn para analisis discriminante"
   ]
  },
  {
   "cell_type": "code",
   "execution_count": 209,
   "metadata": {},
   "outputs": [],
   "source": [
    "from sklearn.discriminant_analysis import LinearDiscriminantAnalysis\n",
    "lda = LinearDiscriminantAnalysis()\n",
    "\n",
    "X_lda = lda.fit_transform(X, y) #Entrenaremos y transformaremos los datos"
   ]
  },
  {
   "cell_type": "markdown",
   "metadata": {},
   "source": [
    "#### Para reducción de dimensión"
   ]
  },
  {
   "cell_type": "markdown",
   "metadata": {},
   "source": [
    "Varianza explicada"
   ]
  },
  {
   "cell_type": "code",
   "execution_count": 210,
   "metadata": {},
   "outputs": [
    {
     "data": {
      "text/plain": [
       "array([0.6875, 0.3125])"
      ]
     },
     "execution_count": 210,
     "metadata": {},
     "output_type": "execute_result"
    }
   ],
   "source": [
    "lda.explained_variance_ratio_"
   ]
  },
  {
   "cell_type": "code",
   "execution_count": 211,
   "metadata": {},
   "outputs": [
    {
     "data": {
      "text/plain": [
       "<matplotlib.collections.PathCollection at 0x7f23216274a8>"
      ]
     },
     "execution_count": 211,
     "metadata": {},
     "output_type": "execute_result"
    },
    {
     "data": {
      "image/png": "[encoded data removed]",
      "text/plain": [
       "<Figure size 432x288 with 1 Axes>"
      ]
     },
     "metadata": {
      "needs_background": "light"
     },
     "output_type": "display_data"
    }
   ],
   "source": [
    "plt.xlabel('LD1')\n",
    "plt.ylabel('LD2')\n",
    "plt.scatter(\n",
    "    X_lda[:,0],\n",
    "    X_lda[:,1],\n",
    "    c=y,\n",
    "    cmap='plasma',\n",
    "    alpha=0.8,\n",
    "    edgecolors='b'\n",
    ")"
   ]
  },
  {
   "cell_type": "markdown",
   "metadata": {},
   "source": [
    "#### Para clasificación"
   ]
  },
  {
   "cell_type": "markdown",
   "metadata": {},
   "source": [
    "train_test_split de sckitlearn: divide los datos en train y test\n",
    "\n",
    "También se puede hacer manual"
   ]
  },
  {
   "cell_type": "code",
   "execution_count": 220,
   "metadata": {},
   "outputs": [],
   "source": [
    "X_train, X_test, y_train, y_test = train_test_split(X, y, test_size=0.25, random_state=42, shuffle=True)\n",
    "lda_clasification = LinearDiscriminantAnalysis()\n"
   ]
  },
  {
   "cell_type": "markdown",
   "metadata": {},
   "source": [
    "##### Entrenamos con nuestros datos de train o de entrenamiento"
   ]
  },
  {
   "cell_type": "code",
   "execution_count": 249,
   "metadata": {},
   "outputs": [],
   "source": [
    "from sklearn.preprocessing import StandardScaler\n",
    "scaler = StandardScaler()\n",
    "X_train=scaler.fit_transform(X_train)\n",
    "X_test=scaler.transform(X_test)\n"
   ]
  },
  {
   "cell_type": "code",
   "execution_count": 250,
   "metadata": {},
   "outputs": [
    {
     "data": {
      "text/plain": [
       "LinearDiscriminantAnalysis(n_components=None, priors=None, shrinkage=None,\n",
       "              solver='svd', store_covariance=False, tol=0.0001)"
      ]
     },
     "execution_count": 250,
     "metadata": {},
     "output_type": "execute_result"
    }
   ],
   "source": [
    "lda_clasification.fit(X_train, y_train) "
   ]
  },
  {
   "cell_type": "markdown",
   "metadata": {},
   "source": [
    "##### Realizamos las predicciones con nuestros datos de test"
   ]
  },
  {
   "cell_type": "code",
   "execution_count": 251,
   "metadata": {},
   "outputs": [
    {
     "data": {
      "text/plain": [
       "(array([2, 0, 1, 0, 1, 0, 1, 2, 1, 2, 2, 1, 0, 1, 0, 1, 1, 1, 0, 1, 0, 1,\n",
       "        1, 1, 1, 1, 1, 1, 1, 0, 0, 1, 2, 0, 0, 0, 1, 1, 1, 1, 0, 1, 1, 2,\n",
       "        1]),\n",
       " array([0, 0, 2, 0, 1, 0, 1, 2, 1, 2, 0, 2, 0, 1, 0, 1, 1, 1, 0, 1, 0, 1,\n",
       "        1, 2, 2, 2, 1, 1, 1, 0, 0, 1, 2, 0, 0, 0, 2, 2, 1, 2, 0, 1, 1, 1,\n",
       "        2]))"
      ]
     },
     "execution_count": 251,
     "metadata": {},
     "output_type": "execute_result"
    }
   ],
   "source": [
    "y_pred=lda_clasification.predict(X_test) \n",
    "y_pred, y_test"
   ]
  },
  {
   "cell_type": "markdown",
   "metadata": {},
   "source": [
    "Comprobamos cuales etiquetas nos dieron igual"
   ]
  },
  {
   "cell_type": "code",
   "execution_count": 253,
   "metadata": {},
   "outputs": [
    {
     "data": {
      "text/plain": [
       "array([False,  True, False,  True,  True,  True,  True,  True,  True,\n",
       "        True, False, False,  True,  True,  True,  True,  True,  True,\n",
       "        True,  True,  True,  True,  True, False, False, False,  True,\n",
       "        True,  True,  True,  True,  True,  True,  True,  True,  True,\n",
       "       False, False,  True, False,  True,  True,  True, False, False])"
      ]
     },
     "execution_count": 253,
     "metadata": {},
     "output_type": "execute_result"
    }
   ],
   "source": [
    "y_test==y_pred"
   ]
  },
  {
   "cell_type": "markdown",
   "metadata": {},
   "source": [
    "#### El problema fue muy facil de identificar, ahora veamos que resulta con PCA"
   ]
  },
  {
   "cell_type": "markdown",
   "metadata": {},
   "source": [
    "# PCA"
   ]
  },
  {
   "cell_type": "code",
   "execution_count": 254,
   "metadata": {},
   "outputs": [
    {
     "data": {
      "text/plain": [
       "(178, 2)"
      ]
     },
     "execution_count": 254,
     "metadata": {},
     "output_type": "execute_result"
    }
   ],
   "source": [
    "from sklearn.decomposition import PCA\n",
    "pca = PCA(n_components=2) #<=d no >\n",
    "X_pca = pca.fit_transform(X)\n",
    "X_pca.shape"
   ]
  },
  {
   "cell_type": "code",
   "execution_count": 255,
   "metadata": {},
   "outputs": [
    {
     "data": {
      "text/plain": [
       "(array([0.9981, 0.0017]), 0.9998271461166032)"
      ]
     },
     "execution_count": 255,
     "metadata": {},
     "output_type": "execute_result"
    }
   ],
   "source": [
    "pca.explained_variance_ratio_, np.sum(pca.explained_variance_ratio_)"
   ]
  },
  {
   "cell_type": "code",
   "execution_count": 256,
   "metadata": {},
   "outputs": [
    {
     "data": {
      "text/plain": [
       "<matplotlib.collections.PathCollection at 0x7f23215a6198>"
      ]
     },
     "execution_count": 256,
     "metadata": {},
     "output_type": "execute_result"
    },
    {
     "data": {
      "image/png": "[encoded data removed]",
      "text/plain": [
       "<Figure size 432x288 with 1 Axes>"
      ]
     },
     "metadata": {
      "needs_background": "light"
     },
     "output_type": "display_data"
    }
   ],
   "source": [
    "plt.xlabel('PC1')\n",
    "plt.ylabel('PC2')\n",
    "plt.scatter(\n",
    "    X_pca[:,0],\n",
    "    X_pca[:,1],\n",
    "    c=y,\n",
    "    cmap='plasma',\n",
    "    alpha=0.8,\n",
    "    edgecolors='b'\n",
    ")"
   ]
  },
  {
   "cell_type": "markdown",
   "metadata": {},
   "source": [
    "#### Podemos utilizar las caracteristicas resultantes en PCA para clasificar con LDA (pura curiosidad)"
   ]
  },
  {
   "cell_type": "code",
   "execution_count": 260,
   "metadata": {},
   "outputs": [],
   "source": [
    "X_train, X_test, y_train, y_test = train_test_split(X_pca, y,test_size=0.25, random_state=42, shuffle=True)\n",
    "lda_clasification = LinearDiscriminantAnalysis()"
   ]
  },
  {
   "cell_type": "code",
   "execution_count": 261,
   "metadata": {},
   "outputs": [
    {
     "data": {
      "text/plain": [
       "LinearDiscriminantAnalysis(n_components=None, priors=None, shrinkage=None,\n",
       "              solver='svd', store_covariance=False, tol=0.0001)"
      ]
     },
     "execution_count": 261,
     "metadata": {},
     "output_type": "execute_result"
    }
   ],
   "source": [
    "lda_clasification.fit(X_train, y_train) "
   ]
  },
  {
   "cell_type": "code",
   "execution_count": 262,
   "metadata": {},
   "outputs": [],
   "source": [
    "y_pred=lda_clasification.predict(X_test) \n"
   ]
  },
  {
   "cell_type": "code",
   "execution_count": 263,
   "metadata": {},
   "outputs": [
    {
     "data": {
      "text/plain": [
       "array([False,  True, False,  True,  True,  True,  True,  True,  True,\n",
       "        True, False, False,  True,  True,  True,  True,  True,  True,\n",
       "        True,  True,  True,  True,  True, False, False, False,  True,\n",
       "        True,  True,  True,  True,  True,  True,  True,  True,  True,\n",
       "       False, False,  True, False,  True,  True,  True, False, False])"
      ]
     },
     "execution_count": 263,
     "metadata": {},
     "output_type": "execute_result"
    }
   ],
   "source": [
    "y_test==y_pred"
   ]
  },
  {
   "cell_type": "code",
   "execution_count": null,
   "metadata": {},
   "outputs": [],
   "source": []
  },
  {
   "cell_type": "code",
   "execution_count": null,
   "metadata": {},
   "outputs": [],
   "source": []
  }
 ],
 "metadata": {
  "kernelspec": {
   "display_name": "Python 3",
   "language": "python",
   "name": "python3"
  },
  "language_info": {
   "codemirror_mode": {
    "name": "ipython",
    "version": 3
   },
   "file_extension": ".py",
   "mimetype": "text/x-python",
   "name": "python",
   "nbconvert_exporter": "python",
   "pygments_lexer": "ipython3",
   "version": "3.7.3"
  }
 },
 "nbformat": 4,
 "nbformat_minor": 2
}
